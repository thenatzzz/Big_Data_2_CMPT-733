{
 "cells": [
  {
   "cell_type": "markdown",
   "metadata": {},
   "source": [
    "# Assignment 6 - Graph drawing and network analysis"
   ]
  },
  {
   "cell_type": "markdown",
   "metadata": {},
   "source": [
    "In this assignment you will get to work with graphs using the [graph-tool python module](https://graph-tool.skewed.de/).\n",
    "\n",
    "Learning goals are:\n",
    "\n",
    "* perform basic network analysis to create derived graph properties,\n",
    "* visualize graphs and their properties.\n",
    "\n",
    "If you require an introduction to basic graph notions, consider to read the so-titled section in [Maël Fabien\n",
    "'s introductory blog post](https://towardsdatascience.com/introduction-to-graphs-part-1-2de6cda8c5a5). While graph theory and algorithms can lead to fairly deep mathematical discussion, basic definitions and much practical use of graph data are quite easy to get started with.\n",
    "\n",
    "For further background on `graph-tool` refer to the [graph tutorial slides](https://stevenbergner.github.io/Teaching/cmpt767/graph-tutorial) and the [tutorial notebook](https://stevenbergner.github.io/Teaching/cmpt767/graph-tool-tutorial-todo.ipynb). See the [lab setup](#Environment-setup) section below to learn about the `gt conda` environment that has all required dependencies installed in the Big Data Lab."
   ]
  },
  {
   "cell_type": "code",
   "execution_count": 1,
   "metadata": {},
   "outputs": [
    {
     "name": "stdout",
     "output_type": "stream",
     "text": [
      "graph-tool version: 2.29\n"
     ]
    }
   ],
   "source": [
    "import matplotlib as mpl\n",
    "import pandas as pd\n",
    "import matplotlib.pyplot as plt\n",
    "import numpy as np\n",
    "from IPython.display import display, Markdown\n",
    "%matplotlib inline\n",
    "\n",
    "import graph_tool.all as gt\n",
    "print(\"graph-tool version: {}\".format(gt.__version__.split(' ')[0]))"
   ]
  },
  {
   "cell_type": "markdown",
   "metadata": {},
   "source": [
    "# Problem 1: Power grid analysis"
   ]
  },
  {
   "cell_type": "code",
   "execution_count": 2,
   "metadata": {},
   "outputs": [
    {
     "data": {
      "text/markdown": [
       "Power grid: An undirected, unweighted network representing the topology of the Western States Power Grid of the United States. Data compiled by D. Watts and S. Strogatz and made available on the web `here <http://cdg.columbia.edu/cdg/datasets>`_. Please cite D. J. Watts and S. H. Strogatz, Nature 393, 440-442 (1998). Retrieved from `Mark Newman's website <http://www-personal.umich.edu/~mejn/netdata/>`_."
      ],
      "text/plain": [
       "<IPython.core.display.Markdown object>"
      ]
     },
     "metadata": {},
     "output_type": "display_data"
    }
   ],
   "source": [
    "g = gt.collection.data['power']\n",
    "display(Markdown(gt.collection.descriptions['power']))"
   ]
  },
  {
   "cell_type": "markdown",
   "metadata": {},
   "source": [
    " In this graph an edge represents a power supply line. A node is either a generator, a transformator, or a substation.\n",
    " \n",
    "**Task 1a**: Create a drawing of this graph that emphasizes nodes that have more than 10 incident power supply lines. Set the size of all other nodes to 0, but retain visibility of the power lines."
   ]
  },
  {
   "cell_type": "code",
   "execution_count": 3,
   "metadata": {},
   "outputs": [
    {
     "data": {
      "text/plain": [
       "<VertexPropertyMap object with value type 'vector<double>', for Graph 0x7f522c6dd358, at 0x7f522c73a240>"
      ]
     },
     "execution_count": 3,
     "metadata": {},
     "output_type": "execute_result"
    }
   ],
   "source": [
    "# TODO\n",
    "# # this assigns random values to the vertex properties\n",
    "# vprop_double.get_array()[:] = random(g.num_vertices())\n",
    "\n",
    "# # or more conveniently (this is equivalent to the above)\n",
    "# vprop_double.a = random(g.num_vertices())\n",
    "\n",
    "deg= g.degree_property_map(\"total\")\n",
    "\n",
    "for i in range(len(deg.a)):\n",
    "    if deg.a[i] <= 10:\n",
    "        deg.a[i] = 0 \n",
    "\n",
    "\n",
    "pos = gt.sfdp_layout(g)\n",
    "gt.graph_draw(g, pos=pos, vertex_size=deg,  edge_pen_width=1.2,output=\"graph-draw.png\")\n"
   ]
  },
  {
   "cell_type": "markdown",
   "metadata": {},
   "source": [
    "**Task 1b:** Identify one of the centrality measures that can be used to indicate powerlines that act as a bridge between different parts of the network. Use this to emphasize structurally important nodes and powerlines."
   ]
  },
  {
   "cell_type": "code",
   "execution_count": 4,
   "metadata": {},
   "outputs": [
    {
     "data": {
      "text/plain": [
       "<VertexPropertyMap object with value type 'vector<double>', for Graph 0x7f522c6dd358, at 0x7f522c6dd3c8>"
      ]
     },
     "execution_count": 4,
     "metadata": {},
     "output_type": "execute_result"
    }
   ],
   "source": [
    "# TODO\n",
    "vp, ep = gt.betweenness(g)\n",
    "gt.graph_draw(g, pos=g.vp[\"pos\"], vertex_fill_color=vp,\n",
    "               vertex_size=gt.prop_to_size(vp, mi=1, ma=15),\n",
    "               edge_pen_width=gt.prop_to_size(ep, mi=0.5, ma=5),\n",
    "               vcmap=plt.cm.gist_heat,\n",
    "               vorder=vp, output=\"polblogs_betweenness.pdf\")"
   ]
  },
  {
   "cell_type": "markdown",
   "metadata": {},
   "source": [
    "# Problem 2: Small social graph visualization"
   ]
  },
  {
   "cell_type": "code",
   "execution_count": 5,
   "metadata": {},
   "outputs": [],
   "source": [
    "X_knows = {\n",
    "    'Mary': ['Peter', 'Albert', 'DavidF', 'Peter'],\n",
    "    'Judy': ['Bob', 'Alan'],\n",
    "    'Peter': ['Mary', 'DavidF', 'Jon'],\n",
    "    'DavidF': ['Albert', 'Joseph', 'Peter', 'Mary'],\n",
    "    'Jon': ['Peter', 'Joseph', 'DavidE'],\n",
    "    'DavidE': ['Jon', 'Joseph', 'Albert'],\n",
    "    'Joseph': ['DavidE', 'Jon', 'DavidF'],\n",
    "    'Bob': ['Judy', 'Alan'],\n",
    "    'Alan': ['Bob', 'Mary', 'Judy'],\n",
    "    'Albert': ['DavidF', 'Mary', 'DavidE'],\n",
    "}"
   ]
  },
  {
   "cell_type": "markdown",
   "metadata": {},
   "source": [
    "**Task**: Create an undirected graph based on the information above, remove parallel edges, and draw it using a layout that resembles the tidy example given below."
   ]
  },
  {
   "cell_type": "code",
   "execution_count": 6,
   "metadata": {},
   "outputs": [
    {
     "name": "stdout",
     "output_type": "stream",
     "text": [
      "['DavidE', 'Joseph', 'Jon', 'DavidF', 'Peter', 'Alan', 'Mary', 'Albert', 'Bob', 'Judy']\n"
     ]
    },
    {
     "data": {
      "text/plain": [
       "<VertexPropertyMap object with value type 'vector<double>', for Graph 0x7f51f5ef4f60, at 0x7f51f5ed22b0>"
      ]
     },
     "execution_count": 6,
     "metadata": {},
     "output_type": "execute_result"
    }
   ],
   "source": [
    "# TODO\n",
    "from graph_tool.all import *\n",
    "names = [key for key in X_knows.keys()]\n",
    "\n",
    "edges_list = [sorted([i, j]) for i in X_knows for j in X_knows[i]]\n",
    "\n",
    "social_g = gt.Graph(directed=False)\n",
    "\n",
    "edges_list = set(tuple(x) for x in edges_list)\n",
    "edges_list = [ list(x) for x in edges_list ]\n",
    "\n",
    "\n",
    "new_names_list = []\n",
    "for i in range(len(edges_list)):\n",
    "    new_names_list = new_names_list + edges_list[i]      \n",
    "final_list = []\n",
    "for i in range(len(new_names_list)):\n",
    "    if new_names_list[i] not in final_list:\n",
    "        final_list.append(new_names_list[i])\n",
    "print(final_list)\n",
    "\n",
    "social_g.add_edge_list(edges_list,hashed=True, string_vals=True)\n",
    "\n",
    "# print(social_g.vertex)\n",
    "# print(social_g.vertex(0))\n",
    "v_prop = social_g.new_vertex_property(\"string\")\n",
    "for i in range(social_g.num_vertices()):\n",
    "    v_prop[social_g.vertex(i)] = final_list[i]\n",
    "\n",
    "social_g.vertex_properties['social_name']= v_prop\n",
    "graph_draw(social_g, vertex_text=social_g.vertex_properties['social_name'], vertex_font_size=10,                                                                                                         \n",
    "            output_size=(300, 300), output=\"social_graph.png\")\n"
   ]
  },
  {
   "cell_type": "markdown",
   "metadata": {},
   "source": [
    "# Problem 3: Facebook graph analysis"
   ]
  },
  {
   "cell_type": "markdown",
   "metadata": {},
   "source": [
    "For the following question let us work with a real social graph of facebook friendship connections. Please download [`facebook_combined.txt` from SNAP](https://snap.stanford.edu/data/ego-Facebook.html), the Stanford Large Network Dataset Collection and create a `Graph` object with `graph-tool`. The dataset contains the ego networks of 10 facebook users, i.e. the friends of each of these users and the connections among those friends.\n",
    "\n",
    "Goal of the following questions is to use centrality measures to determine influencers among the users, not including the ego nodes themselves."
   ]
  },
  {
   "cell_type": "markdown",
   "metadata": {},
   "source": [
    "**Task 3a:** Load the dataset and create a drawing of the graph."
   ]
  },
  {
   "cell_type": "code",
   "execution_count": 8,
   "metadata": {},
   "outputs": [
    {
     "data": {
      "text/html": [
       "<div>\n",
       "<style scoped>\n",
       "    .dataframe tbody tr th:only-of-type {\n",
       "        vertical-align: middle;\n",
       "    }\n",
       "\n",
       "    .dataframe tbody tr th {\n",
       "        vertical-align: top;\n",
       "    }\n",
       "\n",
       "    .dataframe thead th {\n",
       "        text-align: right;\n",
       "    }\n",
       "</style>\n",
       "<table border=\"1\" class=\"dataframe\">\n",
       "  <thead>\n",
       "    <tr style=\"text-align: right;\">\n",
       "      <th></th>\n",
       "      <th>first</th>\n",
       "      <th>second</th>\n",
       "    </tr>\n",
       "  </thead>\n",
       "  <tbody>\n",
       "    <tr>\n",
       "      <th>0</th>\n",
       "      <td>0</td>\n",
       "      <td>1</td>\n",
       "    </tr>\n",
       "    <tr>\n",
       "      <th>1</th>\n",
       "      <td>0</td>\n",
       "      <td>2</td>\n",
       "    </tr>\n",
       "    <tr>\n",
       "      <th>2</th>\n",
       "      <td>0</td>\n",
       "      <td>3</td>\n",
       "    </tr>\n",
       "    <tr>\n",
       "      <th>3</th>\n",
       "      <td>0</td>\n",
       "      <td>4</td>\n",
       "    </tr>\n",
       "    <tr>\n",
       "      <th>4</th>\n",
       "      <td>0</td>\n",
       "      <td>5</td>\n",
       "    </tr>\n",
       "    <tr>\n",
       "      <th>5</th>\n",
       "      <td>0</td>\n",
       "      <td>6</td>\n",
       "    </tr>\n",
       "    <tr>\n",
       "      <th>6</th>\n",
       "      <td>0</td>\n",
       "      <td>7</td>\n",
       "    </tr>\n",
       "    <tr>\n",
       "      <th>7</th>\n",
       "      <td>0</td>\n",
       "      <td>8</td>\n",
       "    </tr>\n",
       "    <tr>\n",
       "      <th>8</th>\n",
       "      <td>0</td>\n",
       "      <td>9</td>\n",
       "    </tr>\n",
       "    <tr>\n",
       "      <th>9</th>\n",
       "      <td>0</td>\n",
       "      <td>10</td>\n",
       "    </tr>\n",
       "    <tr>\n",
       "      <th>10</th>\n",
       "      <td>0</td>\n",
       "      <td>11</td>\n",
       "    </tr>\n",
       "    <tr>\n",
       "      <th>11</th>\n",
       "      <td>0</td>\n",
       "      <td>12</td>\n",
       "    </tr>\n",
       "    <tr>\n",
       "      <th>12</th>\n",
       "      <td>0</td>\n",
       "      <td>13</td>\n",
       "    </tr>\n",
       "    <tr>\n",
       "      <th>13</th>\n",
       "      <td>0</td>\n",
       "      <td>14</td>\n",
       "    </tr>\n",
       "    <tr>\n",
       "      <th>14</th>\n",
       "      <td>0</td>\n",
       "      <td>15</td>\n",
       "    </tr>\n",
       "    <tr>\n",
       "      <th>15</th>\n",
       "      <td>0</td>\n",
       "      <td>16</td>\n",
       "    </tr>\n",
       "    <tr>\n",
       "      <th>16</th>\n",
       "      <td>0</td>\n",
       "      <td>17</td>\n",
       "    </tr>\n",
       "    <tr>\n",
       "      <th>17</th>\n",
       "      <td>0</td>\n",
       "      <td>18</td>\n",
       "    </tr>\n",
       "    <tr>\n",
       "      <th>18</th>\n",
       "      <td>0</td>\n",
       "      <td>19</td>\n",
       "    </tr>\n",
       "    <tr>\n",
       "      <th>19</th>\n",
       "      <td>0</td>\n",
       "      <td>20</td>\n",
       "    </tr>\n",
       "    <tr>\n",
       "      <th>20</th>\n",
       "      <td>0</td>\n",
       "      <td>21</td>\n",
       "    </tr>\n",
       "    <tr>\n",
       "      <th>21</th>\n",
       "      <td>0</td>\n",
       "      <td>22</td>\n",
       "    </tr>\n",
       "    <tr>\n",
       "      <th>22</th>\n",
       "      <td>0</td>\n",
       "      <td>23</td>\n",
       "    </tr>\n",
       "    <tr>\n",
       "      <th>23</th>\n",
       "      <td>0</td>\n",
       "      <td>24</td>\n",
       "    </tr>\n",
       "    <tr>\n",
       "      <th>24</th>\n",
       "      <td>0</td>\n",
       "      <td>25</td>\n",
       "    </tr>\n",
       "    <tr>\n",
       "      <th>25</th>\n",
       "      <td>0</td>\n",
       "      <td>26</td>\n",
       "    </tr>\n",
       "    <tr>\n",
       "      <th>26</th>\n",
       "      <td>0</td>\n",
       "      <td>27</td>\n",
       "    </tr>\n",
       "    <tr>\n",
       "      <th>27</th>\n",
       "      <td>0</td>\n",
       "      <td>28</td>\n",
       "    </tr>\n",
       "    <tr>\n",
       "      <th>28</th>\n",
       "      <td>0</td>\n",
       "      <td>29</td>\n",
       "    </tr>\n",
       "    <tr>\n",
       "      <th>29</th>\n",
       "      <td>0</td>\n",
       "      <td>30</td>\n",
       "    </tr>\n",
       "    <tr>\n",
       "      <th>...</th>\n",
       "      <td>...</td>\n",
       "      <td>...</td>\n",
       "    </tr>\n",
       "    <tr>\n",
       "      <th>88204</th>\n",
       "      <td>4014</td>\n",
       "      <td>4017</td>\n",
       "    </tr>\n",
       "    <tr>\n",
       "      <th>88205</th>\n",
       "      <td>4014</td>\n",
       "      <td>4021</td>\n",
       "    </tr>\n",
       "    <tr>\n",
       "      <th>88206</th>\n",
       "      <td>4014</td>\n",
       "      <td>4023</td>\n",
       "    </tr>\n",
       "    <tr>\n",
       "      <th>88207</th>\n",
       "      <td>4014</td>\n",
       "      <td>4030</td>\n",
       "    </tr>\n",
       "    <tr>\n",
       "      <th>88208</th>\n",
       "      <td>4014</td>\n",
       "      <td>4037</td>\n",
       "    </tr>\n",
       "    <tr>\n",
       "      <th>88209</th>\n",
       "      <td>4014</td>\n",
       "      <td>4038</td>\n",
       "    </tr>\n",
       "    <tr>\n",
       "      <th>88210</th>\n",
       "      <td>4016</td>\n",
       "      <td>4025</td>\n",
       "    </tr>\n",
       "    <tr>\n",
       "      <th>88211</th>\n",
       "      <td>4017</td>\n",
       "      <td>4021</td>\n",
       "    </tr>\n",
       "    <tr>\n",
       "      <th>88212</th>\n",
       "      <td>4017</td>\n",
       "      <td>4026</td>\n",
       "    </tr>\n",
       "    <tr>\n",
       "      <th>88213</th>\n",
       "      <td>4017</td>\n",
       "      <td>4030</td>\n",
       "    </tr>\n",
       "    <tr>\n",
       "      <th>88214</th>\n",
       "      <td>4018</td>\n",
       "      <td>4023</td>\n",
       "    </tr>\n",
       "    <tr>\n",
       "      <th>88215</th>\n",
       "      <td>4018</td>\n",
       "      <td>4030</td>\n",
       "    </tr>\n",
       "    <tr>\n",
       "      <th>88216</th>\n",
       "      <td>4019</td>\n",
       "      <td>4026</td>\n",
       "    </tr>\n",
       "    <tr>\n",
       "      <th>88217</th>\n",
       "      <td>4019</td>\n",
       "      <td>4030</td>\n",
       "    </tr>\n",
       "    <tr>\n",
       "      <th>88218</th>\n",
       "      <td>4020</td>\n",
       "      <td>4027</td>\n",
       "    </tr>\n",
       "    <tr>\n",
       "      <th>88219</th>\n",
       "      <td>4020</td>\n",
       "      <td>4030</td>\n",
       "    </tr>\n",
       "    <tr>\n",
       "      <th>88220</th>\n",
       "      <td>4020</td>\n",
       "      <td>4031</td>\n",
       "    </tr>\n",
       "    <tr>\n",
       "      <th>88221</th>\n",
       "      <td>4020</td>\n",
       "      <td>4037</td>\n",
       "    </tr>\n",
       "    <tr>\n",
       "      <th>88222</th>\n",
       "      <td>4020</td>\n",
       "      <td>4038</td>\n",
       "    </tr>\n",
       "    <tr>\n",
       "      <th>88223</th>\n",
       "      <td>4021</td>\n",
       "      <td>4026</td>\n",
       "    </tr>\n",
       "    <tr>\n",
       "      <th>88224</th>\n",
       "      <td>4021</td>\n",
       "      <td>4030</td>\n",
       "    </tr>\n",
       "    <tr>\n",
       "      <th>88225</th>\n",
       "      <td>4023</td>\n",
       "      <td>4030</td>\n",
       "    </tr>\n",
       "    <tr>\n",
       "      <th>88226</th>\n",
       "      <td>4023</td>\n",
       "      <td>4031</td>\n",
       "    </tr>\n",
       "    <tr>\n",
       "      <th>88227</th>\n",
       "      <td>4023</td>\n",
       "      <td>4034</td>\n",
       "    </tr>\n",
       "    <tr>\n",
       "      <th>88228</th>\n",
       "      <td>4023</td>\n",
       "      <td>4038</td>\n",
       "    </tr>\n",
       "    <tr>\n",
       "      <th>88229</th>\n",
       "      <td>4026</td>\n",
       "      <td>4030</td>\n",
       "    </tr>\n",
       "    <tr>\n",
       "      <th>88230</th>\n",
       "      <td>4027</td>\n",
       "      <td>4031</td>\n",
       "    </tr>\n",
       "    <tr>\n",
       "      <th>88231</th>\n",
       "      <td>4027</td>\n",
       "      <td>4032</td>\n",
       "    </tr>\n",
       "    <tr>\n",
       "      <th>88232</th>\n",
       "      <td>4027</td>\n",
       "      <td>4038</td>\n",
       "    </tr>\n",
       "    <tr>\n",
       "      <th>88233</th>\n",
       "      <td>4031</td>\n",
       "      <td>4038</td>\n",
       "    </tr>\n",
       "  </tbody>\n",
       "</table>\n",
       "<p>88234 rows × 2 columns</p>\n",
       "</div>"
      ],
      "text/plain": [
       "       first  second\n",
       "0          0       1\n",
       "1          0       2\n",
       "2          0       3\n",
       "3          0       4\n",
       "4          0       5\n",
       "5          0       6\n",
       "6          0       7\n",
       "7          0       8\n",
       "8          0       9\n",
       "9          0      10\n",
       "10         0      11\n",
       "11         0      12\n",
       "12         0      13\n",
       "13         0      14\n",
       "14         0      15\n",
       "15         0      16\n",
       "16         0      17\n",
       "17         0      18\n",
       "18         0      19\n",
       "19         0      20\n",
       "20         0      21\n",
       "21         0      22\n",
       "22         0      23\n",
       "23         0      24\n",
       "24         0      25\n",
       "25         0      26\n",
       "26         0      27\n",
       "27         0      28\n",
       "28         0      29\n",
       "29         0      30\n",
       "...      ...     ...\n",
       "88204   4014    4017\n",
       "88205   4014    4021\n",
       "88206   4014    4023\n",
       "88207   4014    4030\n",
       "88208   4014    4037\n",
       "88209   4014    4038\n",
       "88210   4016    4025\n",
       "88211   4017    4021\n",
       "88212   4017    4026\n",
       "88213   4017    4030\n",
       "88214   4018    4023\n",
       "88215   4018    4030\n",
       "88216   4019    4026\n",
       "88217   4019    4030\n",
       "88218   4020    4027\n",
       "88219   4020    4030\n",
       "88220   4020    4031\n",
       "88221   4020    4037\n",
       "88222   4020    4038\n",
       "88223   4021    4026\n",
       "88224   4021    4030\n",
       "88225   4023    4030\n",
       "88226   4023    4031\n",
       "88227   4023    4034\n",
       "88228   4023    4038\n",
       "88229   4026    4030\n",
       "88230   4027    4031\n",
       "88231   4027    4032\n",
       "88232   4027    4038\n",
       "88233   4031    4038\n",
       "\n",
       "[88234 rows x 2 columns]"
      ]
     },
     "execution_count": 8,
     "metadata": {},
     "output_type": "execute_result"
    }
   ],
   "source": [
    "# TODO\n",
    "data = pd.read_csv('facebook_combined.txt', sep=\" \", header=None)\n",
    "data.columns = ['first','second']\n",
    "# data"
   ]
  },
  {
   "cell_type": "code",
   "execution_count": 9,
   "metadata": {},
   "outputs": [
    {
     "name": "stdout",
     "output_type": "stream",
     "text": [
      "<bound method Graph.vertex of <Graph object, undirected, with 4039 vertices and 88234 edges at 0x7f51f5ea16a0>>\n"
     ]
    },
    {
     "data": {
      "text/plain": [
       "<VertexPropertyMap object with value type 'vector<double>', for Graph 0x7f51f5ea16a0, at 0x7f51f5ed2e10>"
      ]
     },
     "execution_count": 9,
     "metadata": {},
     "output_type": "execute_result"
    }
   ],
   "source": [
    "# TODO\n",
    "# Create an empty list \n",
    "total_list =[] \n",
    "  \n",
    "# Iterate over each row \n",
    "for index, rows in data.iterrows():\n",
    "    # Create list for the current row \n",
    "    single_list =[rows['first'], rows['second']] \n",
    "      \n",
    "    # append the list to the final list \n",
    "    total_list.append(sorted(single_list)) \n",
    "  \n",
    "total_list = [set(x) for x in total_list]\n",
    "total_list = [ list(x) for x in total_list ]\n",
    "\n",
    "fb_g = gt.Graph(directed=False)\n",
    "fb_g.add_edge_list(total_list,hashed=True, string_vals=False)\n",
    "\n",
    "print(fb_g.vertex)\n",
    "graph_draw(fb_g, vertex_font_size=1,output_size=(1300, 1300), output=\"fb_graph.png\")\n"
   ]
  },
  {
   "cell_type": "markdown",
   "metadata": {},
   "source": [
    "**Task 3b:** Calculate and show a histogram of pairwise distances among users, i.e. on the shortest paths of friendship connections among any pair of users. Use a log-scale to show the frequencies in the histogram. What is the diameter of this graph?\n",
    "\n",
    "*Hint:* Calculating and drawing the histogram amounts to two lines of code using `gt` and `plt` modules."
   ]
  },
  {
   "cell_type": "code",
   "execution_count": null,
   "metadata": {},
   "outputs": [],
   "source": [
    "# TODO"
   ]
  },
  {
   "cell_type": "markdown",
   "metadata": {},
   "source": [
    "**Task 3c:** Determine influencers, i.e. people withing the ego network that are well connected among friends.\n",
    "\n",
    "There are several steps to this analysis. First, remove the ego nodes. You can do this in an approximate way, simply by calculating a measure of influence of a user and removing the highest scoring nodes, assuming that these naturally are the ego nodes whose friends this network consists of.\n",
    "\n",
    "Use `PageRank` as a measure of influence of a node.\n",
    "\n",
    "*Step 1* - Create a [`GraphView`](https://graph-tool.skewed.de/static/doc/quickstart.html#graph-views) and drawing that only retains nodes with a `pagerank` $< 0.002$."
   ]
  },
  {
   "cell_type": "code",
   "execution_count": 27,
   "metadata": {},
   "outputs": [
    {
     "name": "stdout",
     "output_type": "stream",
     "text": [
      "<VertexPropertyMap object with value type 'double', for Graph 0x7f51f5ea16a0, at 0x7f51f50cce80>\n",
      "4039\n"
     ]
    },
    {
     "data": {
      "text/plain": [
       "<VertexPropertyMap object with value type 'vector<double>', for Graph 0x7f51f5e98668, at 0x7f51f50cc668>"
      ]
     },
     "execution_count": 27,
     "metadata": {},
     "output_type": "execute_result"
    }
   ],
   "source": [
    "# TODO\n",
    "pr = gt.pagerank(fb_g)\n",
    "# print(type(pr.a))\n",
    "print(pr)\n",
    "v_prop = fb_g.new_vertex_property(\"double\")\n",
    "print(fb_g.num_vertices())\n",
    "for i in range(fb_g.num_vertices()):\n",
    "    v_prop[fb_g.vertex(i)] = pr.a[i]\n",
    "    \n",
    "fb_gv = gt.GraphView(fb_g, vfilt = lambda v: v_prop[v] < 0.002)\n",
    "\n",
    "\n",
    "# filtered_pr = []\n",
    "# for i in range(len(pr.a)):\n",
    "#     if pr.a[i] < 0.002:\n",
    "#         filtered_pr.append(pr.a[i])\n",
    "# filtered_pr = np.asarray(filtered_pr)\n",
    "\n",
    "\n",
    "pr2 = gt.pagerank(fb_gv)\n",
    "\n",
    "pos = sfdp_layout(fb_gv)\n",
    "\n",
    "gt.graph_draw(fb_gv, pos=pos,vertex_fill_color=pr2,\n",
    "              vertex_size=gt.prop_to_size(pr2, mi=1, ma=15),\n",
    "              vcmap=plt.cm.gist_heat,\n",
    "               output=\"fb_pr.png\")"
   ]
  },
  {
   "cell_type": "code",
   "execution_count": null,
   "metadata": {},
   "outputs": [],
   "source": [
    "# TODO"
   ]
  },
  {
   "cell_type": "markdown",
   "metadata": {},
   "source": [
    "*Step 2* - Only retain the largest connected component of this graph, i.e. create another [`GraphView`](https://graph-tool.skewed.de/static/doc/quickstart.html#graph-views) of only this largest component."
   ]
  },
  {
   "cell_type": "code",
   "execution_count": 16,
   "metadata": {},
   "outputs": [
    {
     "name": "stdout",
     "output_type": "stream",
     "text": [
      "<VertexPropertyMap object with value type 'double', for Graph 0x7f51f5e9d978, at 0x7f522c6dd4a8>\n",
      "<class 'graph_tool.VertexPropertyMap'>\n"
     ]
    },
    {
     "data": {
      "text/plain": [
       "<VertexPropertyMap object with value type 'vector<double>', for Graph 0x7f522c6dd358, at 0x7f522c6dd3c8>"
      ]
     },
     "execution_count": 16,
     "metadata": {},
     "output_type": "execute_result"
    }
   ],
   "source": [
    "# TODO\n",
    "fb_gv2 = gt.GraphView(g, vfilt=gt.label_largest_component(g))\n",
    "pr = gt.pagerank(fb_gv2)\n",
    "print(pr)\n",
    "print(type(pr))\n",
    "\n",
    "gt.graph_draw(fb_gv2, pos=g.vp[\"pos\"], vertex_fill_color=pr,\n",
    "               vertex_size=gt.prop_to_size(pr, mi=1, ma=15),\n",
    "               vorder=pr, vcmap=plt.cm.gist_heat,\n",
    "               output=\"fb_large_component.png\")"
   ]
  },
  {
   "cell_type": "markdown",
   "metadata": {},
   "source": [
    "*Step 3* - Recalculate pagerank for each node, choose a threshold (e.g. 0.0005) above which only a small part of the users are selected. Create a drawing that emphasizes these users that potentially play central roles among their friends."
   ]
  },
  {
   "cell_type": "code",
   "execution_count": null,
   "metadata": {},
   "outputs": [],
   "source": [
    "# TODO"
   ]
  },
  {
   "cell_type": "code",
   "execution_count": null,
   "metadata": {},
   "outputs": [],
   "source": [
    "# TODO"
   ]
  },
  {
   "cell_type": "markdown",
   "metadata": {},
   "source": [
    "# Environment setup"
   ]
  },
  {
   "cell_type": "markdown",
   "metadata": {},
   "source": [
    "## Lab setup\n",
    "We have prepared a `conda` environment in the lab that contains all modules required for this assignment. You can activate the environment as follows:"
   ]
  },
  {
   "cell_type": "markdown",
   "metadata": {},
   "source": [
    "```\n",
    "conda activate /usr/shared/CMPT/big-data/condaenv/gt\n",
    "```\n",
    "You should now be able to `import graph_tool` in a python 3 session or inside jupyter notebooks.\n",
    "\n",
    "#### You might get an error\n",
    "`CommandNotFoundError: Your shell has not been properly configured to use 'conda activate'.`\n",
    "This happens, if you have not used conda before. To perform initialization once, we recommend the following steps:\n",
    "```\n",
    "conda init bash\n",
    "conda config --set auto_activate_base false\n",
    "```\n",
    "If you now restart your terminal shell or simply invoke a new one by typing `bash`, you can try activating the environment, again."
   ]
  },
  {
   "cell_type": "markdown",
   "metadata": {},
   "source": [
    "#### Reproduce the conda setup in the lab\n",
    "\n",
    "In case you want to reproduce the setup, here are the calls used to create the environment:\n",
    "```\n",
    "conda create -n gt\n",
    "conda activate gt\n",
    "conda install -c conda-forge graph-tool\n",
    "conda install -c pkgw-forge -c conda-forge gtk3 pygobject\n",
    "conda install -c conda-forge jupyter jupyterlab\n",
    "conda install -c conda-forge matplotlib scikit-learn seaborn networkx igraph pyintergraph graphviz\n",
    "```\n"
   ]
  },
  {
   "cell_type": "markdown",
   "metadata": {},
   "source": [
    "## Setup on Linux (Ubuntu or WSL)\n",
    "\n",
    "If you have sudo privileges, you can simply run\n",
    "```\n",
    "sudo apt install python3-graph-tool\n",
    "```\n",
    "and proceed to install further Python dependencies via `pip`, not requiring anaconda.\n",
    "In case there are issues with drawing functionality, you may also need\n",
    "```\n",
    "sudo install libcairo2-dev xdg-utils graphviz\n",
    "```\n",
    "\n",
    "Note, that this also works on Windows' WSL (Windows Sub-shell for Linux) running Ubuntu, in case you do not want to launch a VM for this.\n",
    "\n",
    "## Other environments and remote use\n",
    "\n",
    "Setting up `graph_tool` on Mac OSX is possible via `brew`, but evidence online suggests that this may not be straightforward.\n",
    "Since the [conda-forge graph-tool package](https://anaconda.org/conda-forge/graph-tool) is available for `osx-64`, maybe you want to try installing via `conda` instead of `brew`.\n",
    "\n",
    "Remote use of the lab setup is possible, but tricky. Familiarize yourself with a shell session manager, such as [`tmux`](https://tmuxcheatsheet.com/) or GNU [`screen`](https://gist.github.com/fredrick/1216878) to keep an ssh session open once you logged into a lab machine. To connect to a jupyter notebook remotely you could create a [`ngrok`](https://ngrok.com/) account and use their http port tunneling. If you have questions about this method, ask Steven in the lab for more hints.\n"
   ]
  },
  {
   "cell_type": "markdown",
   "metadata": {},
   "source": [
    "# Submission instructions\n",
    "Please submit [this notebook](https://github.com/sfu-db/bigdata-cmpt733/blob/master/Assignments/A6/A6.ipynb) with filled out code cells and figures included to [CourSys activity A6](https://coursys.sfu.ca/2020sp-cmpt-733-g1/+a6/)."
   ]
  }
 ],
 "metadata": {
  "kernelspec": {
   "display_name": "Python 3",
   "language": "python",
   "name": "python3"
  },
  "language_info": {
   "codemirror_mode": {
    "name": "ipython",
    "version": 3
   },
   "file_extension": ".py",
   "mimetype": "text/x-python",
   "name": "python",
   "nbconvert_exporter": "python",
   "pygments_lexer": "ipython3",
   "version": "3.7.3"
  }
 },
 "nbformat": 4,
 "nbformat_minor": 4
}
